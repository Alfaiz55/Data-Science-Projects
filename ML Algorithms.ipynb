{
 "cells": [
  {
   "cell_type": "markdown",
   "id": "056bb619",
   "metadata": {},
   "source": [
    "# Decision Tree Algorithm "
   ]
  },
  {
   "cell_type": "code",
   "execution_count": null,
   "id": "6ca82017",
   "metadata": {},
   "outputs": [],
   "source": [
    "#decision tree algorithm type 1.Regression(numeric) 2. Classification(categories)\n",
    "from sklearn.tree import DecisionTreeClassifier\n",
    "import matplotlib.pyplot as plt\n",
    "from sklearn.tree import plot_tree \n",
    "#Sample data(study HOurs, Attendence)\n",
    "X=[[5,90],[2,60],[8,80],[3,50],[4,75],[3,40],[4,45]]\n",
    "y=[\"Pass\",\"Fail\",\"Pass\",\"Fail\",\"Pass\",\"Fail\",\"Fail\"]\n",
    "\n",
    "#Create and train the model\n",
    "model=DecisionTreeClassifier(max_depth=3)\n",
    "model.fit(X,y)\n",
    "\n",
    "#predict for a new student(studied 4 hours, 70% attendence)\n",
    "hours=int(input(\"Enter the study hours:\"))\n",
    "attend=int(input(\"Enter the attendence percentage:\"))\n",
    "prediction=model.predict([[hours,attend]])\n",
    "print(\"Result:\", prediction)\n",
    "\n",
    "#visualize the Decision Tree\n",
    "plt.figure(figsize=(6,5))\n",
    "plot_tree(model,feature_names=[\"Study Hours\",\"Attendence\"],class_names=[\"Fail\",\"Pass\"],filled=True)\n",
    "plt.show()\n",
    "\n"
   ]
  },
  {
   "cell_type": "markdown",
   "id": "17bec481",
   "metadata": {},
   "source": [
    "# Logistic Regression "
   ]
  },
  {
   "cell_type": "markdown",
   "id": "93264294",
   "metadata": {},
   "source": [
    "Logistic regression is the supervised machine learning model used for classification problems. It pre\n",
    "dict the probability that given input belongsto particular category like yes/no, true/false etc.\n",
    "it use sigmoid function to coverts the output into 0 and 1 for probability."
   ]
  },
  {
   "cell_type": "code",
   "execution_count": 1,
   "id": "34da6333",
   "metadata": {},
   "outputs": [
    {
     "name": "stdout",
     "output_type": "stream",
     "text": [
      "Accuracy: 0.5\n"
     ]
    }
   ],
   "source": [
    "from sklearn.linear_model import LogisticRegression\n",
    "from sklearn.model_selection import train_test_split\n",
    "from sklearn.metrics import accuracy_score\n",
    "\n",
    "X=[[1],[2],[3],[4],[5]]#hours of study\n",
    "y=[0,0,1,1,1]#pass or not\n",
    "\n",
    "X_train,X_test,y_train,y_test=train_test_split(X,y,test_size=0.3)\n",
    "\n",
    "#train the logistic model\n",
    "model=LogisticRegression()\n",
    "model.fit(X_train,y_train)\n",
    "\n",
    "y_pred=model.predict(X_test)\n",
    " #Accuracy\n",
    "print(\"Accuracy:\",accuracy_score(y_test,y_pred))\n"
   ]
  },
  {
   "cell_type": "markdown",
   "id": "9102c0f4",
   "metadata": {},
   "source": [
    "Now here is the small heart dieases deteaction project using the Logistic regression"
   ]
  },
  {
   "cell_type": "code",
   "execution_count": null,
   "id": "6553fb9d",
   "metadata": {},
   "outputs": [],
   "source": [
    "from sklearn.linear_model import LogisticRegression\n",
    "from sklearn.model_selection import train_test_split\n",
    "from sklearn.metrics import accuracy_score, classification_report\n",
    "import pandas as pd \n",
    "\n",
    "#step 1 load the dataset\n",
    "df=pd.read_csv(r\"C:\\Users\\lenovo\\Downloads\\heart.csv\")\n",
    "\n",
    "#step 2: Prepare features (X) and target (y)\n",
    "X=df.drop('condition',axis=1)# All column except 'target'\n",
    "y=df['condition']#target column=heart disease, 0=no\n",
    "\n",
    "#Step3; Split the dataset into training and testing sets(80% for training and 20% for testing)\n",
    "X_train, X_test,y_train,y_test=train_test_split(X,y,test_size=0.2, random_state=42)\n",
    "\n",
    "#Step 4: Create and train the logistic regression model\n",
    "model=LogisticRegression(max_iter=1000)\n",
    "model.fit(X_train,y_train)\n",
    "\n",
    "#step 5: Evaluate the model on test data\n",
    "y_pred=model.predict(X_test)\n",
    "print(\"Model Accuracy:\",accuracy_score(y_test,y_pred))\n",
    "print(\"Classification Report:\\n\",classification_report(y_test,y_pred))\n",
    "\n",
    "#Step 6: take user input for prediction\n",
    "print(\"\\nEnter details to predict heart disease:\")\n",
    "\n",
    "age=int(input(\"Enter the age:-\"))\n",
    "sex=int(input(\"Sex 1 for Male and 0 for Female:-\"))\n",
    "cp=int(input(\"Chest pain type(0-3):\"))\n",
    "trestbps=int(input(\"Resting blood pressure:\"))\n",
    "chol=int(input(\"Serum cholestrol(mg/dl):-\"))\n",
    "fbs=int(input(\"Fasting blood sugar>120 mg/dl(1=yes, 0=no):-\"))\n",
    "restecg = int(input(\"Resting ECG result (0–2): \"))\n",
    "thalach=int(input(\"Max heart rate achieved:-\"))\n",
    "exang=int(input(\"Exercise induced againa(1=yes, 0=no):-\"))\n",
    "oldpeak = float(input(\"ST depression induced by exercise (e.g. 2.3): \"))\n",
    "slope = int(input(\"Slope of ST segment (0–2): \"))\n",
    "ca = int(input(\"Number of major vessels (0–3): \"))\n",
    "thal = int(input(\"Thal (1=normal, 2=fixed defect, 3=reversable defect): \"))\n",
    "\n",
    "#prepare the input in the same order as features\n",
    "user_data=[[age,sex,cp,trestbps,chol,fbs,restecg,thalach,exang,oldpeak,slope,ca,thal]]\n",
    "\n",
    "#Step 7: make prediction for user input\n",
    "prediction=model.predict(user_data)\n",
    "probability=model.predict_proba(user_data)\n",
    "\n",
    "# Step 8: Output the prediction result\n",
    "if prediction[0] == 1:\n",
    "    print(\"\\nPrediction: The person is likely to have heart disease.\")\n",
    "else:\n",
    "    print(\"\\nPrediction: The person is unlikely to have heart disease.\")\n",
    "\n",
    "print(f\"Probability of having heart disease: {probability[0][1]*100:.2f}%\")"
   ]
  },
  {
   "cell_type": "markdown",
   "id": "e2346d3d",
   "metadata": {},
   "source": [
    "# Naive Bayes "
   ]
  },
  {
   "cell_type": "markdown",
   "id": "3d586dfb",
   "metadata": {},
   "source": [
    "Naive bayes is a probabilistic classifier based on the Bayes Theorem with a strong assumption of features inpependence.(It means all features are independent)"
   ]
  },
  {
   "cell_type": "code",
   "execution_count": 10,
   "id": "a2c7fc51",
   "metadata": {},
   "outputs": [
    {
     "name": "stdout",
     "output_type": "stream",
     "text": [
      "Accuracy: 0.9838565022421525\n",
      "\n",
      "Classification Report:\n",
      "               precision    recall  f1-score   support\n",
      "\n",
      "           0       0.98      1.00      0.99       965\n",
      "           1       0.99      0.89      0.94       150\n",
      "\n",
      "    accuracy                           0.98      1115\n",
      "   macro avg       0.98      0.95      0.96      1115\n",
      "weighted avg       0.98      0.98      0.98      1115\n",
      "\n",
      "Paste your email here for checking:-you are promoted and your transfer application will be approve\n",
      "This email is ham(not spam)\n"
     ]
    }
   ],
   "source": [
    "import pandas as pd\n",
    "from sklearn.model_selection import train_test_split\n",
    "from sklearn.feature_extraction.text import CountVectorizer\n",
    "from sklearn.naive_bayes import MultinomialNB\n",
    "from sklearn.metrics import accuracy_score, classification_report\n",
    "\n",
    "# Step 1: Load the dataset\n",
    "df = pd.read_csv(r\"C:\\Users\\lenovo\\Downloads\\spam.csv\", encoding='latin-1')[['v1', 'v2']]\n",
    "df.columns = ['label', 'text']  # Rename for clarity\n",
    "\n",
    "# Step 2: Encode labels (spam = 1, ham = 0)\n",
    "df['label'] = df['label'].map({'ham': 0, 'spam': 1})\n",
    "\n",
    "# Step 3: Split data\n",
    "X_train, X_test, y_train, y_test = train_test_split(df['text'], df['label'], test_size=0.2, random_state=42)\n",
    "\n",
    "# Step 4: Convert text to word count features\n",
    "vectorizer = CountVectorizer()\n",
    "X_train_counts = vectorizer.fit_transform(X_train)\n",
    "X_test_counts = vectorizer.transform(X_test)\n",
    "\n",
    "# Step 5: Train Multinomial Naive Bayes model\n",
    "model = MultinomialNB()\n",
    "model.fit(X_train_counts, y_train)\n",
    "\n",
    "# Step 6: Make predictions\n",
    "predictions = model.predict(X_test_counts)\n",
    "\n",
    "# Step 7: Evaluate\n",
    "print(\"Accuracy:\", accuracy_score(y_test, predictions))\n",
    "print(\"\\nClassification Report:\\n\", classification_report(y_test, predictions))\n",
    "\n",
    "#User Input\n",
    "user_msg=input(\"Paste your email here for checking:-\")\n",
    "user_msg_vector=vectorizer.transform([user_msg])\n",
    "#NOTE:- input must be in listt\n",
    "\n",
    "prediction=model.predict(user_msg_vector)\n",
    "if prediction[0]==1:\n",
    "    print(\"This email is spam\")\n",
    "else:\n",
    "    print(\"This email is ham(not spam)\")\n"
   ]
  },
  {
   "cell_type": "code",
   "execution_count": null,
   "id": "3be08e12",
   "metadata": {},
   "outputs": [],
   "source": []
  }
 ],
 "metadata": {
  "kernelspec": {
   "display_name": "Python 3 (ipykernel)",
   "language": "python",
   "name": "python3"
  },
  "language_info": {
   "codemirror_mode": {
    "name": "ipython",
    "version": 3
   },
   "file_extension": ".py",
   "mimetype": "text/x-python",
   "name": "python",
   "nbconvert_exporter": "python",
   "pygments_lexer": "ipython3",
   "version": "3.11.5"
  }
 },
 "nbformat": 4,
 "nbformat_minor": 5
}
