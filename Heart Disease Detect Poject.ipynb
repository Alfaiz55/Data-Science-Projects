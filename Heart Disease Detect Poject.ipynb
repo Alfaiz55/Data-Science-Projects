{
 "cells": [
  {
   "cell_type": "code",
   "execution_count": null,
   "id": "cdb4d862",
   "metadata": {},
   "outputs": [],
   "source": [
    "from sklearn.linear_model import LogisticRegression\n",
    "from sklearn.model_selection import train_test_split\n",
    "from sklearn.metrics import accuracy_score, classification_report\n",
    "import pandas as pd \n",
    "\n",
    "#step 1 load the dataset\n",
    "df=pd.read_csv(r\"C:\\Users\\lenovo\\Downloads\\heart.csv\")\n",
    "\n",
    "#step 2: Prepare features (X) and target (y)\n",
    "X=df.drop('condition',axis=1)# All column except 'target'\n",
    "y=df['condition']#target column=heart disease, 0=no\n",
    "\n",
    "#Step3; Split the dataset into training and testing sets(80% for training and 20% for testing)\n",
    "X_train, X_test,y_train,y_test=train_test_split(X,y,test_size=0.2, random_state=42)\n",
    "\n",
    "#Step 4: Create and train the logistic regression model\n",
    "model=LogisticRegression(max_iter=1000)\n",
    "model.fit(X_train,y_train)\n",
    "\n",
    "#step 5: Evaluate the model on test data\n",
    "y_pred=model.predict(X_test)\n",
    "print(\"Model Accuracy:\",accuracy_score(y_test,y_pred))\n",
    "print(\"Classification Report:\\n\",classification_report(y_test,y_pred))\n",
    "\n",
    "#Step 6: take user input for prediction\n",
    "print(\"\\nEnter details to predict heart disease:\")\n",
    "\n",
    "age=int(input(\"Enter the age:-\"))\n",
    "sex=int(input(\"Sex 1 for Male and 0 for Female:-\"))\n",
    "cp=int(input(\"Chest pain type(0-3):\"))\n",
    "trestbps=int(input(\"Resting blood pressure:\"))\n",
    "chol=int(input(\"Serum cholestrol(mg/dl):-\"))\n",
    "fbs=int(input(\"Fasting blood sugar>120 mg/dl(1=yes, 0=no):-\"))\n",
    "restecg = int(input(\"Resting ECG result (0–2): \"))\n",
    "thalach=int(input(\"Max heart rate achieved:-\"))\n",
    "exang=int(input(\"Exercise induced againa(1=yes, 0=no):-\"))\n",
    "oldpeak = float(input(\"ST depression induced by exercise (e.g. 2.3): \"))\n",
    "slope = int(input(\"Slope of ST segment (0–2): \"))\n",
    "ca = int(input(\"Number of major vessels (0–3): \"))\n",
    "thal = int(input(\"Thal (1=normal, 2=fixed defect, 3=reversable defect): \"))\n",
    "\n",
    "#prepare the input in the same order as features\n",
    "user_data=[[age,sex,cp,trestbps,chol,fbs,restecg,thalach,exang,oldpeak,slope,ca,thal]]\n",
    "\n",
    "#Step 7: make prediction for user input\n",
    "prediction=model.predict(user_data)\n",
    "probability=model.predict_proba(user_data)\n",
    "\n",
    "# Step 8: Output the prediction result\n",
    "if prediction[0] == 1:\n",
    "    print(\"\\nPrediction: The person is likely to have heart disease.\")\n",
    "else:\n",
    "    print(\"\\nPrediction: The person is unlikely to have heart disease.\")\n",
    "\n",
    "print(f\"Probability of having heart disease: {probability[0][1]*100:.2f}%\")"
   ]
  }
 ],
 "metadata": {
  "kernelspec": {
   "display_name": "Python 3 (ipykernel)",
   "language": "python",
   "name": "python3"
  },
  "language_info": {
   "codemirror_mode": {
    "name": "ipython",
    "version": 3
   },
   "file_extension": ".py",
   "mimetype": "text/x-python",
   "name": "python",
   "nbconvert_exporter": "python",
   "pygments_lexer": "ipython3",
   "version": "3.11.5"
  }
 },
 "nbformat": 4,
 "nbformat_minor": 5
}
